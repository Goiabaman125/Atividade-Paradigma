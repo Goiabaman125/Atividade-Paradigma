{
  "nbformat": 4,
  "nbformat_minor": 0,
  "metadata": {
    "colab": {
      "provenance": [],
      "authorship_tag": "ABX9TyPcRqZlv23AAs0HdfQcOTiU",
      "include_colab_link": true
    },
    "kernelspec": {
      "name": "python3",
      "display_name": "Python 3"
    },
    "language_info": {
      "name": "python"
    }
  },
  "cells": [
    {
      "cell_type": "markdown",
      "metadata": {
        "id": "view-in-github",
        "colab_type": "text"
      },
      "source": [
        "<a href=\"https://colab.research.google.com/github/Goiabaman125/Atividade-Paradigma/blob/main/Exerciciospython.ipynb\" target=\"_parent\"><img src=\"https://colab.research.google.com/assets/colab-badge.svg\" alt=\"Open In Colab\"/></a>"
      ]
    },
    {
      "cell_type": "markdown",
      "source": [
        "Programa 01-Objetivo:Fazer a leitura de duas notas e calcular sua média (Depois fazer usando def em python)"
      ],
      "metadata": {
        "id": "6OGAGibPRnaL"
      }
    },
    {
      "cell_type": "markdown",
      "source": [],
      "metadata": {
        "id": "Yjuw7EvtXsxP"
      }
    },
    {
      "cell_type": "code",
      "source": [
        "# Solicita ao usuário que insira as duas notas\n",
        "nota1 = float(input(\"Digite a primeira nota: \"))\n",
        "nota2 = float(input(\"Digite a segunda nota: \"))\n",
        "\n",
        "# Calcula a média das duas notas\n",
        "media = (nota1 + nota2) / 2\n",
        "\n",
        "# Exibe a média\n",
        "print(\"A média das notas é:\", media)\n"
      ],
      "metadata": {
        "id": "nFeC3vk2RzIu"
      },
      "execution_count": null,
      "outputs": []
    },
    {
      "cell_type": "markdown",
      "source": [
        "Em Java\n"
      ],
      "metadata": {
        "id": "WJB_U1-oVjLO"
      }
    },
    {
      "cell_type": "code",
      "source": [
        "import java.util.Scanner;\n",
        "\n",
        "public class CalculoMedia {\n",
        "    public static void main(String[] args) {\n",
        "        Scanner scanner = new Scanner(System.in);\n",
        "\n",
        "        // Solicita ao usuário que insira as duas notas\n",
        "        System.out.print(\"Digite a primeira nota: \");\n",
        "        double nota1 = scanner.nextDouble();\n",
        "\n",
        "        System.out.print(\"Digite a segunda nota: \");\n",
        "        double nota2 = scanner.nextDouble();\n",
        "\n",
        "        // Calcula a média das duas notas\n",
        "        double media = (nota1 + nota2) / 2;\n",
        "\n",
        "        // Exibe a média\n",
        "        System.out.println(\"A média das notas é: \" + media);\n",
        "\n",
        "        // Fecha o scanner para liberar recursos\n",
        "        scanner.close();\n",
        "    }\n",
        "}\n"
      ],
      "metadata": {
        "id": "JSyFyuj4Vl9F"
      },
      "execution_count": null,
      "outputs": []
    },
    {
      "cell_type": "markdown",
      "source": [
        "Programa 02-Faça um programa que solicite o preço de uma mercadoria e o percentual de desconto.Exiba o valor do desconto e o preço a pagar."
      ],
      "metadata": {
        "id": "bEaRkfIHSK7s"
      }
    },
    {
      "cell_type": "code",
      "source": [
        "preço= float(input(\"Digite o preço da mercadoria:\"))\n",
        "desconto = float(input(\"Digite o percentual de desconto:\"))\n",
        "valor_do_desconto = preço * desconto / 100\n",
        "a_pagar = preço - valor_do_desconto\n",
        "print(\"Um desconto de %5.2f %% em uma mercadoria de R$ %7.2f\" %(desconto, preço))\n",
        "print(\"vale R$ %7.2f.\" % valor_do_desconto)\n",
        "print(\"O valor a pagar é de R$ %7.2f\" % a_pagar)"
      ],
      "metadata": {
        "id": "ob5nBYbQSyK7"
      },
      "execution_count": null,
      "outputs": []
    },
    {
      "cell_type": "markdown",
      "source": [
        "Programa 03-Escreva um programa para calcular a redução do tempo de vida de um fumante.Pergunte a quantidade de cigarros fumados por dia e quantos anos ele já fumou.Considere que um fumante perde 10 minutos de vida a cada cigarro,e calcule quantos dias de vida um fumante perderá.Exiba o total em dias."
      ],
      "metadata": {
        "id": "JOsmE3FQU7lP"
      }
    },
    {
      "cell_type": "code",
      "source": [
        "Nfumado = int(input(\"Quantos cigarros você fuma por dia?:\"))\n",
        "tempo= float(input(\"Ha quanto tempo você fuma? (Em Anos):\"))\n",
        "\n"
      ],
      "metadata": {
        "id": "gE0Hqt9sVhQg"
      },
      "execution_count": null,
      "outputs": []
    },
    {
      "cell_type": "code",
      "source": [
        "cigarros_por_dia = int(input(\"Quantidade de cigarros por dia:\"))\n",
        "anos_fumado = float(input(\"Quantidade de anos fumando:\"))\n",
        "redução_em_minutos = anos_fumando * 365 * cigarros_por_dia * 10\n",
        "# um dia tem 24 x 60 minutos\n",
        "redução_em_dias = redução_em_minutos / (24 * 60)"
      ],
      "metadata": {
        "id": "f-rva5nfZfCG"
      },
      "execution_count": null,
      "outputs": []
    },
    {
      "cell_type": "markdown",
      "source": [
        "Escreva um programa para controlar uma pequena máquina registradora.Você deve solicitar ao usuário que digite o código do produto e a quantidade comprada.Utilize a tabela de códigos a seguir para o preço de cada produto:\n",
        "\n",
        "Código Preço 1 0,50/2 1,00/3 4,00/5 7,00/ 9 8,00.Seu programa deve exibir o total das compras depois que o usuário digitar 0. Qualquer outro código deve gerar a mensagem de erro \"Código Inválido\". (Python,Java,Go)"
      ],
      "metadata": {
        "id": "sh7CRmMQXwZ-"
      }
    },
    {
      "cell_type": "code",
      "source": [
        "import java.util.Scanner;\n",
        "\n",
        "public class MaquinaRegistradora {\n",
        "    public static void main(String[] args) {\n",
        "        Scanner scanner = new Scanner(System.in);\n",
        "        double total = 0.0;\n",
        "\n",
        "        System.out.println(\"Por favor, digite o código do produto (1, 2, 3, 5, 9) e a quantidade comprada.\");\n",
        "        System.out.println(\"Digite 0 para calcular o total e sair.\");\n",
        "\n",
        "        while (true) {\n",
        "            System.out.print(\"Código do produto (ou 0 para sair): \");\n",
        "            int codigo = scanner.nextInt();\n",
        "\n",
        "            if (codigo == 0) {\n",
        "                break; // Sai do loop quando o código 0 é digitado\n",
        "            } else if (codigo == 1 || codigo == 2 || codigo == 3 || codigo == 5 || codigo == 9) {\n",
        "                System.out.print(\"Quantidade comprada: \");\n",
        "                int quantidade = scanner.nextInt();\n",
        "\n",
        "                double preco = 0.0;\n",
        "\n",
        "                switch (codigo) {\n",
        "                    case 1:\n",
        "                        preco = 0.50;\n",
        "                        break;\n",
        "                    case 2:\n",
        "                        preco = 1.00;\n",
        "                        break;\n",
        "                    case 3:\n",
        "                        preco = 4.00;\n",
        "                        break;\n",
        "                    case 5:\n",
        "                        preco = 7.00;\n",
        "                        break;\n",
        "                    case 9:\n",
        "                        preco = 8.00;\n",
        "                        break;\n",
        "                }\n",
        "\n",
        "                total += preco * quantidade;\n",
        "            } else {\n",
        "                System.out.println(\"Código Inválido. Por favor, insira um código válido.\");\n",
        "            }\n",
        "        }\n",
        "\n",
        "        System.out.println(\"Total das compras: R$\" + total);\n",
        "        System.out.println(\"Fim de transição\");\n",
        "\n",
        "        scanner.close();\n",
        "    }\n",
        "}\n",
        "\n"
      ],
      "metadata": {
        "id": "VAdoSe3oZLJv"
      },
      "execution_count": null,
      "outputs": []
    },
    {
      "cell_type": "markdown",
      "source": [
        "Em Python\n"
      ],
      "metadata": {
        "id": "n0FNfPj6Xs6D"
      }
    },
    {
      "cell_type": "code",
      "source": [
        "while true:\n",
        "  codigo = int(input(\"Codigo da mercadoria (0 para sair):\"))\n",
        "  preço = 0\n",
        "  if código == 0:\n",
        "    break\n",
        "  elif codigo == 1:\n",
        "     preço = 0,50\n",
        "  elif codigo == 2:\n",
        "    preço = 1,00\n",
        "  elif codigo == 3:\n",
        "    preço = 4,00\n",
        "  elif codigo ==5:\n",
        "    preço = 7,00\n",
        "  elif codigo == 9:\n",
        "    preço = 8,00\n",
        "   else:\n",
        "    print(\"Codigo invalido!\")\n",
        "   if preço !=0:\n",
        "    quantidade = int(input(\"Quantidade: \"))\n",
        "    apagar = apagar + (preco * quantidade)\n",
        "   print(\"Apagado com sucesso\")\n",
        "\n"
      ],
      "metadata": {
        "id": "Kd7Rbf-Wavka"
      },
      "execution_count": null,
      "outputs": []
    },
    {
      "cell_type": "markdown",
      "source": [
        "Optomização de codigo (Dicionario 1)\n"
      ],
      "metadata": {
        "id": "gJjE7h4_kpIW"
      }
    },
    {
      "cell_type": "code",
      "source": [
        "def main():\n",
        "    # Cria um dicionário vazio para a agenda\n",
        "    agenda = {}\n",
        "\n",
        "    while True:\n",
        "        cpf = input(\"Digite o CPF (ou '0' para sair): \")\n",
        "\n",
        "        if cpf == '0':\n",
        "            break\n",
        "\n",
        "        nome = input(\"Digite o nome: \")\n",
        "        idade = input(\"Digite a idade: \")\n",
        "        telefone = input(\"Digite o telefone: \")\n",
        "\n",
        "        # Verifica se o CPF já está na agenda\n",
        "        if cpf in agenda:\n",
        "            print(\"CPF já existe na agenda. Os dados serão atualizados.\")\n",
        "\n",
        "        # Adiciona ou atualiza os dados na agenda\n",
        "        agenda[cpf] = {\n",
        "            \"nome\": nome,\n",
        "            \"idade\": idade,\n",
        "            \"telefone\": telefone,\n",
        "        }\n",
        "\n",
        "    # Imprime os itens da agenda\n",
        "    print(\"\\nAgenda de Contatos:\")\n",
        "    for cpf, contato in agenda.items():\n",
        "        print(f\"CPF: {cpf}, Nome: {contato['nome']}, Idade: {contato['idade']}, Telefone: {contato['telefone']}\")\n",
        "\n",
        "if __name__ == \"__main__\":\n",
        "    main()\n"
      ],
      "metadata": {
        "id": "-9xVAFE2ko4G"
      },
      "execution_count": null,
      "outputs": []
    },
    {
      "cell_type": "markdown",
      "source": [
        "Dicionario 2\n"
      ],
      "metadata": {
        "id": "zFC0hrVwnO2c"
      }
    },
    {
      "cell_type": "code",
      "source": [
        "def calcular_desconto_inss(salario_bruto):\n",
        "    return salario_bruto * 0.08\n",
        "\n",
        "def calcular_desconto_irpf(salario_bruto):\n",
        "    if salario_bruto > 1903.98:\n",
        "        return salario_bruto * 0.10\n",
        "    else:\n",
        "        return 0\n",
        "\n",
        "def main():\n",
        "    folha_de_pagamento = {}\n",
        "\n",
        "    while True:\n",
        "        nome = input(\"Digite o nome (ou '0' para sair): \")\n",
        "\n",
        "        if nome == '0':\n",
        "            break\n",
        "\n",
        "        salario_bruto = float(input(\"Digite o salário bruto: \"))\n",
        "\n",
        "        desconto_inss = calcular_desconto_inss(salario_bruto)\n",
        "        desconto_irpf = calcular_desconto_irpf(salario_bruto)\n",
        "\n",
        "        salario_liquido = salario_bruto - desconto_inss - desconto_irpf\n",
        "\n",
        "        folha_de_pagamento[nome] = {\n",
        "            \"salario_bruto\": salario_bruto,\n",
        "            \"desconto_inss\": desconto_inss,\n",
        "            \"desconto_irpf\": desconto_irpf,\n",
        "            \"salario_liquido\": salario_liquido,\n",
        "        }\n",
        "\n",
        "    print(\"\\nFolha de Pagamento:\")\n",
        "    for nome, dados in folha_de_pagamento.items():\n",
        "        print(f\"Nome: {nome}, Salário Bruto: {dados['salario_bruto']:.2f}, Desconto INSS: {dados['desconto_inss']:.2f}, Desconto IRPF: {dados['desconto_irpf']:.2f}, Salário Líquido: {dados['salario_liquido']:.2f}\")\n",
        "\n",
        "if __name__ == \"__main__\":\n",
        "    main()\n"
      ],
      "metadata": {
        "id": "xv5IGYi-nQ3M"
      },
      "execution_count": null,
      "outputs": []
    },
    {
      "cell_type": "markdown",
      "source": [
        "Codigo em Java do Adapter"
      ],
      "metadata": {
        "id": "h2oylubmnyOV"
      }
    },
    {
      "cell_type": "code",
      "source": [
        "//Classe adaptada (Adaptee)\n",
        "class SensorXbox2 {\n",
        "\n",
        "    //Solicitação Especifica\n",
        "    public void conectarXbox2() {\n",
        "        System.out.println(\"Um novo controle foi conectado ao sensor do Xbox.\");\n",
        "    }\n",
        "}\n",
        "\n",
        "//Classe alvo (Target)\n",
        "class SensorPS5 {\n",
        "\n",
        "    //Solicitação\n",
        "    public void conectarPS5() {\n",
        "        System.out.println(\"Um novo controle foi conectado ao sensor do PS5.\");\n",
        "    }\n",
        "}\n",
        "\n",
        "//Classe adaptador (Adapter)\n",
        "class AdaptadorPS5ParaXbox2 extends SensorPS5 {\n",
        "\n",
        "    private SensorXbox2 adaptee;\n",
        "\n",
        "    public AdaptadorPS5ParaXbox2(SensorXbox2 adaptee) {\n",
        "        this.adaptee = adaptee;\n",
        "    }\n",
        "\n",
        "    //Override da solicitação\n",
        "    public void conectarPS5() {\n",
        "        adaptee.conectarXbox2();\n",
        "        System.out.println(\"But stadia wins!\");\n",
        "    }\n",
        "}\n",
        "\n",
        "//Classe Cliente(Client)\n",
        "public class ControlePS5 {\n",
        "\n",
        "    private SensorPS5 sensorAQueSeConecta;\n",
        "\n",
        "    public void Conectar(SensorPS5 sensor){\n",
        "        this.sensorAQueSeConecta = sensor;\n",
        "        sensorAQueSeConecta.conectarPS5();\n",
        "    }\n",
        "\n",
        "//}\n",
        "//public class Teste{\n",
        "    public static void main(String[] args) {\n",
        "\n",
        "        //Tem-se um Xbox2 e mas deseja-se usar um controle ps5:\n",
        "        SensorXbox2 adaptee = new SensorXbox2();\n",
        "        ControlePS5 target = new ControlePS5();\n",
        "\n",
        "        //Cria-se um falso sensor de PS5 que, na verdade, traduz e repassa os comandos para o Xbox em questão:\n",
        "        AdaptadorPS5ParaXbox2 adapter = new AdaptadorPS5ParaXbox2(adaptee);\n",
        "\n",
        "        //Conecta-se o controle ao adapter:\n",
        "        target.Conectar(adapter);\n",
        "    }\n",
        "}\n",
        "\n",
        "//Saída:\n",
        "//Um novo controle foi conectado ao sensor do Xbox.\n",
        "//But stadia wins!"
      ],
      "metadata": {
        "id": "_N8OeLwxn0d1"
      },
      "execution_count": null,
      "outputs": []
    },
    {
      "cell_type": "markdown",
      "source": [
        "Código em Java e diagrama UML de classes"
      ],
      "metadata": {
        "id": "27c-F8_Cn7mr"
      }
    },
    {
      "cell_type": "code",
      "source": [
        "class ClasseExistente {\n",
        "\n",
        "    public void exibir() {\n",
        "        System.out.println(\"Metodo exibir()\");\n",
        "    }\n",
        "}\n",
        "\n",
        "interface InterfaceCliente {\n",
        "\n",
        "    public void mostrar();\n",
        "}\n",
        "\n",
        "class Adaptador extends ClasseExistente implements InterfaceCliente {\n",
        "\n",
        "    public void mostrar() {\n",
        "        exibir();\n",
        "    }\n",
        "}\n",
        "public class Cliente\n",
        "    {\n",
        "\n",
        "       public static void Main(string[] args)\n",
        "        {\n",
        "            InterfaceCliente existente = new Adaptador();\n",
        "            existente.mostrar();\n",
        "        }\n",
        "    }"
      ],
      "metadata": {
        "id": "qyteeRtwn7Wz"
      },
      "execution_count": null,
      "outputs": []
    }
  ]
}